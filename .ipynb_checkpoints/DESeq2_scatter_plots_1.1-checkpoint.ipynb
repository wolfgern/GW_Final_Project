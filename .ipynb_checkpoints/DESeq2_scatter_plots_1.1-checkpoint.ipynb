{
 "cells": [
  {
   "cell_type": "markdown",
   "metadata": {},
   "source": [
    "## Create Scatter plots with DESeq output files\n",
    "\n",
    "DESeq determines genes or other elements whose expression is significantly changed when comparing two conditions. The ouput is reported in a table. The purpose of this script is to generate scatter plots from multiple DESeq tables that have been pre-processed. Included in the script is a loop that iterated through the entries and assigns colors for all significantly up- and down-regulted genes (in this case retrotransposons). "
   ]
  },
  {
   "cell_type": "code",
   "execution_count": 1,
   "metadata": {
    "collapsed": true
   },
   "outputs": [],
   "source": [
    "import pandas as pd\n",
    "import matplotlib.pyplot as plt\n",
    "import glob"
   ]
  },
  {
   "cell_type": "code",
   "execution_count": 8,
   "metadata": {},
   "outputs": [],
   "source": [
    "files = glob.glob('files/*.interval')    # create list with filenames (pre-processed output files from DESeq)\n",
    "\n",
    "index = 0\n",
    "for file in files:                            # iterate through list with file names\n",
    "    file_name = files[index]\n",
    "    colnames = ['Chr', 'Start', 'End', 'Strand', 'Transposon', 'Mean', 'log2fold', 'x1', 'x2', 'pvalue', 'qvalue']\n",
    "    df = pd.read_csv(file_name, sep = '\\t', names=colnames)\n",
    "\n",
    "    color = []                         # assign colours (red/blue) to up- and downregulated TEs, save as list in 'color'\n",
    "    for row in df.itertuples():\n",
    "        if row[7] > 0 and row[11] < 0.05:    # transposons that are significantly upregulated will be shown in red\n",
    "            color.append('red')\n",
    "        elif row[7] < 0 and row[11] < 0.05:  # transposons that are significantly downregulated will be shown in blue\n",
    "            color.append('blue')\n",
    "        else: \n",
    "            color.append(0.5)                # not significantly changed transposons will be shown in grey\n",
    "\n",
    "    df.plot(x='Mean', y='log2fold', kind='scatter', s=1, c=color)   # crate scatter plot and save as file\n",
    "    plt.xscale('log') \n",
    "    plt.xlabel('Mean TE expression')\n",
    "    plt.ylabel('Log2-fold change')\n",
    "    plt.title(file_name[6:-9])                  # plot title is input file name without extension\n",
    "    plt.axhline(color='black')\n",
    "    plt.savefig(file_name[6:-9])\n",
    "    plt.close()\n",
    "    index += 1\n"
   ]
  }
 ],
 "metadata": {
  "kernelspec": {
   "display_name": "Python 3",
   "language": "python",
   "name": "python3"
  },
  "language_info": {
   "codemirror_mode": {
    "name": "ipython",
    "version": 3
   },
   "file_extension": ".py",
   "mimetype": "text/x-python",
   "name": "python",
   "nbconvert_exporter": "python",
   "pygments_lexer": "ipython3",
   "version": "3.6.1"
  }
 },
 "nbformat": 4,
 "nbformat_minor": 2
}
