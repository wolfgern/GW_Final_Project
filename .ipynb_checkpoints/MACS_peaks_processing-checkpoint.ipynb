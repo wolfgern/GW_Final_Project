{
 "cells": [
  {
   "cell_type": "markdown",
   "metadata": {},
   "source": [
    "## Process excel peak files from the MACS14 peak calling program\n",
    "\n",
    "MACS14 reports results as excel files that contain all ChIP-seq peak information. The purpose of this code is to filter out peaks that are less than 20-fold enriched over Input and to add an additional column that states the KRAB-ZFP from for which the ChIP-seq peaks have been determined. The results will be saved as bed file for further processing."
   ]
  },
  {
   "cell_type": "code",
   "execution_count": 87,
   "metadata": {
    "collapsed": true
   },
   "outputs": [],
   "source": [
    "import pandas as pd\n",
    "import glob"
   ]
  },
  {
   "cell_type": "code",
   "execution_count": null,
   "metadata": {
    "collapsed": true,
    "scrolled": true
   },
   "outputs": [],
   "source": [
    "files = glob.glob('*.xls')    # create list with file names containing all .xls files in the working directory \n",
    "print(files)    \n",
    "\n",
    "for file in files:    # iterate through list with file names\n",
    "    \n",
    "    df = pd.read_csv(file, skiprows=23, sep='\\t')    # load file as panda dataframe\n",
    "    df['Zfp_name'] = file.split('_')[0]              # extract ZFP name from file name and make new column with it\n",
    "    df_sorted = df.sort_values('fold_enrichment', ascending=False)       # sort dataframe according to fold_enrichment column\n",
    "    df_sorted_filtered = df_sorted[df_sorted['fold_enrichment'] >= 20]   # filter dataframe to keep only peaks with >= 20-fold enrichment\n",
    "    new_file_name = file[:-4] + '.bed'    # create new file name to save dataframe (as bed file)\n",
    "    df_sorted_filtered.to_csv(new_file_name, sep='\\t', header=False, index=False)    # save dataframe as csv file in bed format"
   ]
  }
 ],
 "metadata": {
  "kernelspec": {
   "display_name": "Python 3",
   "language": "python",
   "name": "python3"
  },
  "language_info": {
   "codemirror_mode": {
    "name": "ipython",
    "version": 3
   },
   "file_extension": ".py",
   "mimetype": "text/x-python",
   "name": "python",
   "nbconvert_exporter": "python",
   "pygments_lexer": "ipython3",
   "version": "3.6.1"
  }
 },
 "nbformat": 4,
 "nbformat_minor": 2
}
