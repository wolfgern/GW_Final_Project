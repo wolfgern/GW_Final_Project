{
 "cells": [
  {
   "cell_type": "markdown",
   "metadata": {},
   "source": [
    "# KRAB-ZFP ChIP-seq, RNA-seq and evolutionary conservation analysis using Python scripts\n",
    "\n",
    "## 1. Introduction\n",
    "\n",
    "Krüppel-associated box zinc finger proteins (KRAB-ZFPs) constitute the largest transcription factor family in mammals. While most transcription factors bind relatively short DNA sequences present in the genome in thousands of copies, KRAB-ZFPs use a modular DNA binding domain, consisting of up to several dozen individual C2H2-type zinc fingers, allowing highly specific binding to long stretches of DNA that are unlikely to appear by chance. This mode of DNA binding, together with their KRAB repressor domain, enables KRAB-ZFPs to accurately and potently silence target genes. Interestingly, the KRAB-ZFP family rapidly amplified and diversified in mammals by segmental gene duplications, mutations, and zinc finger rearrangements. Recent evidence suggests that KRAB-ZFP diversification reflects an ongoing arms race between the host and transposable elements (TEs) that continuously invade and amplify within their host genomes. While this hypothesis might explain some aspects of KRAB-ZFP function and evolution, many questions remain open.\n",
    "\n",
    "To address these questions, we initiated a medium-scale screen to identify the genome-wide binding sites of more than 50 previously uncharacterized mouse KRAB-ZFPs. Additionally, we gereated five KRAB-ZFP cluster KO ES cell lines, altogether genetically deleting nearly 100 KRAB-ZFPs. These cell lines were thoroughly analyzed by ChIP-seq, RNA-seq and other approaches. Additionally, we generated two cluster KO mouse lines in which we peformed RNA-seq in various tissues.\n",
    "\n",
    "## 2. Aim\n",
    "\n",
    "To generate simple, fast and reporoducible workflows, I wrote several Python scripts that process data that were generated other tools such as Bowtie, MACS14, DESeq and various Bedtools functions. The final goal is to to combine all scripts in one single program that processes raw ChIP-seq and RNA-seq files to generate publication-ready figures. However, some of these datasets are very big and the incorporation of other tools (which often take a long time to run) into a single Python script is challenging. Therefore, for now, I will use pre-written computational tools such as Bowtie and MACS14 in commandline, using awk commands and custom unix shell executables files in order to process a large amount of data efficiently and in relatively short time (e.g. mapping a typical ChIP-seq file using Bowtie, including sam to bam conversion and sorting of the final output file, takes less than 10 minutes when using 24 processors on our local server.) The aim for each of the developed Python scripts is explained in more detail below, including a workflow scheme that lists all other tools that are required to generate the input files for the Python scripts.\n"
   ]
  },
  {
   "cell_type": "markdown",
   "metadata": {
    "collapsed": true
   },
   "source": [
    "# 3. Python scripts for data analysis\n",
    "\n",
    "## 3.1 MACS14 processing\n",
    "\n",
    "I used Bowtie (--best mode) to map ChIP-seq fastq files to the mouse genome (mm9) and MACS14 (-p 1E-10) to call regions with significant enrichment of ChIP sample vs Input control (peaks). MACS14 reports the results as excel files that contain all ChIP-seq peak information. The purpose of this code is to filter out peaks that are less than 20-fold enriched over Input and to add an additional column that states the KRAB-ZFP from for which the ChIP-seq peaks have been determined. The results are saved as bed file for further processing.                                                            "
   ]
  },
  {
   "cell_type": "raw",
   "metadata": {},
   "source": [
    "Workflow:\n",
    "\n",
    "Bowtie > MACS14 > Python script: MACS14 processing > Bedtools > Python script: Find targeted TEs\n",
    "                                                              > Python script: KAP1 and H3K9me3 at significant TE peaks"
   ]
  },
  {
   "cell_type": "code",
   "execution_count": 1,
   "metadata": {
    "collapsed": true
   },
   "outputs": [],
   "source": [
    "# import modules (note: since all  scripts are working independantly, modules are imported for each module even if they already have been loaded for a previous script)\n",
    "import pandas as pd\n",
    "import glob"
   ]
  },
  {
   "cell_type": "code",
   "execution_count": 20,
   "metadata": {},
   "outputs": [
    {
     "name": "stdout",
     "output_type": "stream",
     "text": [
      "['peaks\\\\Gm13150_Input_peaks.xls', 'peaks\\\\Zfp273_Input_peaks.xls', 'peaks\\\\Zfp456_Input_peaks.xls', 'peaks\\\\Zfp457_Input_peaks.xls', 'peaks\\\\Zfp58_Input_peaks.xls', 'peaks\\\\Zfp712_Input_peaks.xls', 'peaks\\\\Zfp738_Input_peaks.xls', 'peaks\\\\Zfp92_Input_peaks.xls']\n"
     ]
    }
   ],
   "source": [
    "files = glob.glob('peaks/*.xls')    # create list with file names containing all .xls files with the 'peak' folder in the working directory \n",
    "print(files)    \n",
    "\n",
    "for file in files:    # iterate through list with file names\n",
    "    \n",
    "    df = pd.read_csv(file, skiprows=23, sep='\\t')    # load file as panda dataframe\n",
    "    new_name = file.split('\\\\')[1]                 # split file name to remove path from name\n",
    "    df['Zfp_name'] = new_name.split('_')[0]              # extract ZFP name from file name and make new column with it\n",
    "    df_sorted = df.sort_values('fold_enrichment', ascending=False)       # sort dataframe according to fold_enrichment column\n",
    "    df_sorted_filtered = df_sorted[df_sorted['fold_enrichment'] >= 20]   # filter dataframe to keep only peaks with >= 20-fold enrichment\n",
    "    new_file_name = file[:-4] + '.bed'                                   # create new file name to save dataframe (as bed file)\n",
    "    df_sorted_filtered.to_csv(new_file_name, sep='\\t', header=False, index=False)    # save dataframe as csv file in bed format\n",
    "                    "
   ]
  },
  {
   "cell_type": "markdown",
   "metadata": {},
   "source": [
    "## 3.2 Find targeted TEs\n",
    "\n",
    "To find out whether these KRAB-ZFPs preferably target transposable elements, I use the 'Join the intervals of two datasets side-by-side' script on Galaxy. The tools finds overlapping regions in two interval or bed files and returns a table with regions of the first dataset (in this case the ChIP-seq peak file) and any overlapping regions of the second dataset (a bed file with all transposon coordinated from the UCSC Table Browser) in one line. The following scripts reports transposon families if they (1) overlap with at least three peaks of a given KRAB-ZFP and (2) the peaks overlapping with the transposon family make up at least two percent of all peaks. "
   ]
  },
  {
   "cell_type": "raw",
   "metadata": {},
   "source": [
    "Workflow:\n",
    "\n",
    "MACS14 processing > Join the intervals of two datasets side-by-side (Galaxy) > Python script: Find targeted TEs"
   ]
  },
  {
   "cell_type": "code",
   "execution_count": null,
   "metadata": {
    "collapsed": true
   },
   "outputs": [],
   "source": [
    "import pandas as pd\n",
    "import matplotlib.pyplot as plt\n",
    "import numpy as np"
   ]
  },
  {
   "cell_type": "code",
   "execution_count": null,
   "metadata": {
    "collapsed": true
   },
   "outputs": [],
   "source": [
    "df = pd.read_csv('49_KRAB-ZFP_peaks_200bp_TE.interval', sep='\\t', header=None, names=['Chr', 'Start', 'End', 'Length', 'Summit', 'Tags', 'Enrichment', 'FDR', 'ZFP', 'TE'])\n",
    "unique_ZFPs = set(df.ZFP.tolist())\n",
    "\n",
    "for zfp in unique_ZFPs:\n",
    "    \n",
    "    df_zfp = df[df['ZFP'] == zfp]\n",
    "    TE_count = df_zfp.TE.value_counts()\n",
    "    ZFP_count = df_zfp.ZFP.value_counts()\n",
    "    Zfp_number = ZFP_count[0]\n",
    "    percent_TE = TE_count /Zfp_number * 100\n",
    "    merged = pd.concat([TE_count, percent_TE], axis=1)\n",
    "    merged.columns = ['TE_count', 'TE_percentage']\n",
    "    merged = merged[merged['TE_count'] >= 3]\n",
    "    merged = merged[merged['TE_percentage'] >= 2]\n",
    "    print(zfp)\n",
    "    print(merged, '\\n')"
   ]
  },
  {
   "cell_type": "markdown",
   "metadata": {},
   "source": [
    "## 3.3 Determine KAP1 and h3K9me3 enrichment at TE peaks\n",
    "\n",
    "This script uses a bed file that contains all KRAB-ZFP peaks with overlapping TEs (as used above). Additionally, this file was used to count all overlapping reads from KAP1 and H3K9me3 ChIP-seq data (generated by Bedtools multicov). The second input file (fisher_matrix_TE_only.txt) was generated using Fisher Bed, which calculates the significance of overlaps between two bed files."
   ]
  },
  {
   "cell_type": "raw",
   "metadata": {},
   "source": [
    "Workflow:\n",
    "\n",
    "MACS14 processing > Join the intervals of two datasets side-by-side (Galaxy) > Bedtools multicov > Python script: Determine KAP1 and h3K9me3 enrichment at TE peaks"
   ]
  },
  {
   "cell_type": "code",
   "execution_count": 27,
   "metadata": {},
   "outputs": [
    {
     "name": "stdout",
     "output_type": "stream",
     "text": [
      "                    AW146154    Gm13051   Gm13139    Gm13150   Gm13152  \\\n",
      "KAP1_enrichment     0.916066  19.843509  9.918269  27.471873  4.799651   \n",
      "H3K9me3_enrichment  0.731429   8.628025  5.568266  14.173394  3.097382   \n",
      "\n",
      "                     Gm13154   Gm13157 Gm13225   Gm13251   Gm14295    ...     \\\n",
      "KAP1_enrichment     6.608769  6.184005     n/a  6.230552  3.430649    ...      \n",
      "H3K9me3_enrichment  3.082589  7.484725     n/a  3.310657  1.472444    ...      \n",
      "\n",
      "                      Zfp810   Zfp874a   Zfp874b    Zfp882  Zfp92    Zfp931  \\\n",
      "KAP1_enrichment     0.688784  2.241282  3.103314  2.768353    n/a  7.053676   \n",
      "H3K9me3_enrichment  0.481556  2.634840  4.372661  1.142113    n/a  3.601324   \n",
      "\n",
      "                      Zfp935    Zfp938  Zfp953    Zfp961  \n",
      "KAP1_enrichment     3.578508  3.583449     n/a  7.694648  \n",
      "H3K9me3_enrichment  5.963652  1.244091     n/a  6.427952  \n",
      "\n",
      "[2 rows x 49 columns]\n"
     ]
    }
   ],
   "source": [
    "# set read numbers to calculate RPM (determined by analyzing bam files using bamtools: Flagstat)\n",
    "KAP1_ChIP = 61808121      \n",
    "KAP1_Input = 115085987\n",
    "H3K9me3_ChIP = 43340454\n",
    "H3K9me3_Input = 46710977\n",
    "\n",
    "# load data with KAP1 and H3K9me3 enrichment as dataframe\n",
    "df = pd.read_csv('input_files/49_KRAB-ZFP_peaks_200bp_TE_KAP1_H3K9me3.interval', sep='\\t', header=None, names=['Chr', 'Start', 'End', 'Enrichment', 'ZFP', 'TE', 'KAP1_ChIP', 'KAP1_Input', 'H3K9me3_ChIP', 'H3K9me3_Input'])\n",
    "\n",
    "# generate set with unique ZFP names\n",
    "unique_ZFPs = set(df.ZFP.tolist())     \n",
    "\n",
    "# Load data with fisher bed values as dataframe\n",
    "matrix = pd.read_csv('input_files/fisher_matrix_TE_only.txt', sep='\\t')\n",
    "\n",
    "# calculate RPM values\n",
    "df['KAP1_ChIP'] = df['KAP1_ChIP'] / KAP1_ChIP * 1000000\n",
    "df['KAP1_Input'] = df['KAP1_Input'] / KAP1_Input * 1000000\n",
    "df['H3K9me3_ChIP'] = df['H3K9me3_ChIP'] / H3K9me3_ChIP * 1000000\n",
    "df['H3K9me3_Input'] = df['H3K9me3_Input'] / H3K9me3_Input * 1000000\n",
    "\n",
    "KAP1_enrichment_list = []\n",
    "H3K9me3_enrichment_list = []\n",
    "\n",
    "# Iterate through unique ZFP set\n",
    "for zfp in unique_ZFPs:\n",
    "    \n",
    "    df_zfp = df[df['ZFP'] == zfp]                    # Filter read count table for ZFP name\n",
    "    matrix_zfp_sign = matrix[matrix[zfp] < 1e-5]    # Filter fisher bed table for significant overlapping TEs     \n",
    "    TE_list = matrix_zfp_sign.Repeat.tolist()        # Make list of TEs that are significantly bound by ZFP\n",
    "    if TE_list == []:\n",
    "        KAP1_enrichment_list.append('n/a')\n",
    "        H3K9me3_enrichment_list.append('n/a')\n",
    "        continue\n",
    "    \n",
    "    KAP1_ChIP_TE = []       \n",
    "    KAP1_Input_TE = []\n",
    "    H3K9me3_ChIP_TE = []\n",
    "    H3K9me3_Input_TE = []\n",
    "    \n",
    "    # Iterate through list of TEs that are significantly bound by ZFPs and add KAP1 and H3K9me3 read count\n",
    "    for TE in TE_list:\n",
    "        \n",
    "        df_zfp_TE = df_zfp[df_zfp['TE'] == TE]                  \n",
    "        \n",
    "        KAP1_ChIP_TE += df_zfp_TE['KAP1_ChIP'].tolist()\n",
    "        KAP1_Input_TE += df_zfp_TE['KAP1_Input'].tolist()\n",
    "        H3K9me3_ChIP_TE += df_zfp_TE['H3K9me3_ChIP'].tolist()\n",
    "        H3K9me3_Input_TE += df_zfp_TE['H3K9me3_Input'].tolist()\n",
    "    \n",
    "    # Add sum KAP1 and H3K9me3 reads to new lists\n",
    "    KAP1_enrichment_list.append(sum(KAP1_ChIP_TE)/sum(KAP1_Input_TE))\n",
    "    H3K9me3_enrichment_list.append(sum(H3K9me3_ChIP_TE)/sum(H3K9me3_Input_TE))\n",
    "      \n",
    "Table = pd.DataFrame(KAP1_enrichment_list,H3K9me3_enrichment_list)\n",
    "\n",
    "combined = zip(KAP1_enrichment_list, H3K9me3_enrichment_list)\n",
    "dic = dict(zip(unique_ZFPs, combined))\n",
    "df = pd.DataFrame(dic, index=['KAP1_enrichment', 'H3K9me3_enrichment'])\n",
    "print(df)\n",
    "df.to_csv('KAP1_H3K9me3_enrichment_TEs', sep='\\t')"
   ]
  },
  {
   "cell_type": "markdown",
   "metadata": {},
   "source": [
    "## 3.4 Create Scatter plots with DESeq output files\n",
    "\n",
    "DESeq determines genes or other elements whose expression is significantly changed when comparing two conditions. The ouput is reported in a table. The purpose of this script is to generate scatter plots from multiple DESeq tables that have been pre-processed. Included in the script is a loop that iterated through the entries and assigns colors for all significantly up- and down-regulted genes (in this case retrotransposons)."
   ]
  },
  {
   "cell_type": "raw",
   "metadata": {},
   "source": [
    "Workflow:\n",
    "\n",
    "Tophat > Bedtools multicov > DESeq2 > Python script: Create scatter plots"
   ]
  },
  {
   "cell_type": "code",
   "execution_count": 30,
   "metadata": {
    "collapsed": true
   },
   "outputs": [],
   "source": [
    "import pandas as pd\n",
    "import matplotlib.pyplot as plt\n",
    "import glob"
   ]
  },
  {
   "cell_type": "code",
   "execution_count": null,
   "metadata": {},
   "outputs": [],
   "source": [
    "files = glob.glob('deseq_files/*.interval')    # create list with filenames (pre-processed output files from DESeq) of all .interval files in the interval folder in the directory\n",
    "\n",
    "index = 0\n",
    "for file in files:                            # iterate through list with file names\n",
    "    file_name = files[index]\n",
    "    colnames = ['Chr', 'Start', 'End', 'Strand', 'Transposon', 'Mean', 'log2fold', 'x1', 'x2', 'pvalue', 'qvalue']\n",
    "    df = pd.read_csv(file_name, sep = '\\t', names=colnames)\n",
    "\n",
    "    color = []                         # assign colours (red/blue) to up- and downregulated TEs, save as list in 'color'\n",
    "    for row in df.itertuples():\n",
    "        if row[7] > 0 and row[11] < 0.05:    # transposons that are significantly upregulated will be shown in red\n",
    "            color.append('red')\n",
    "        elif row[7] < 0 and row[11] < 0.05:  # transposons that are significantly downregulated will be shown in blue\n",
    "            color.append('blue')\n",
    "        else: \n",
    "            color.append(0.5)                # not significantly changed transposons will be shown in grey\n",
    "\n",
    "    df.plot(x='Mean', y='log2fold', kind='scatter', s=1, c=color)   # crate scatter plot and save as file\n",
    "    plt.xscale('log') \n",
    "    plt.xlabel('Mean TE expression')\n",
    "    plt.ylabel('Log2-fold change')\n",
    "    plt.title(file_name[12:-9])                  # plot title is input file name without extension\n",
    "    plt.axhline(color='black')\n",
    "    plt.savefig(file_name[:-9])\n",
    "    plt.close()\n",
    "    index += 1"
   ]
  },
  {
   "cell_type": "markdown",
   "metadata": {},
   "source": [
    "## 3.5 Extract amino acids responsible for DNA specificity from C2H2 zinc finger domains\n",
    "\n",
    "C2H2 zinc finger domains form a loop stabilized by a zentral zinc ion that contacts both cystidine and histidine amino acids. The amino acids that are mainly responsible for DNA binding specificity are located at defined positions within the finger. \n",
    "\n",
    "### C--C-----X--X--XH---H\n",
    "\n",
    "C: Cystidine H: Cystidine -: Variable amino acid X: Contact amino acids\n",
    "\n",
    "For evolutionary conservation analysis in KRAB-ZFPs, it is often better to only consider these contact amino acids since they indicate whether the DNA binding preference is conserved. This script uses a multiple fasta file with protein sequences (stop codons indicated by asterisks), identifies C2H2 zinc fingers and returns the contact amino acids for each zinf finger in a fasta-like output. This output file can be loaded into other programs to make alignments or perform BLAST screens."
   ]
  },
  {
   "cell_type": "raw",
   "metadata": {},
   "source": [
    "Workflow:\n",
    "\n",
    "Python script: Find contact amino acids > Alignment software (e.g. MEGA6)"
   ]
  },
  {
   "cell_type": "code",
   "execution_count": null,
   "metadata": {
    "collapsed": true
   },
   "outputs": [],
   "source": [
    "def find_aa(x):  \n",
    "    \n",
    "    \"\"\"\" this function screens a protein sequence (as string) for occurences of C2H2 zinc finger\n",
    "    motifs and returns a string with the three main contact amino  acids of each finger, separated by a dash \"\"\"\n",
    "    \n",
    "    seq = str.upper(x)\n",
    "    fingerprint = '' \n",
    "    while len(seq) > 21:                                                   # loop as long the end of the sequence is > 21 aa\n",
    "        if seq[0] + seq[3] + seq[16] + seq[20] == 'CCHH':\n",
    "            fingerprint = fingerprint + seq[9] + seq[12] + seq[15] + '-'\n",
    "            seq = seq[20:]                                                 # Skip remaining C2H2 motif for further screen\n",
    "        seq = seq[1:]                                                      # Remove fist amino acid from sequence\n",
    "    return fingerprint[:-1]\n",
    "\n",
    "with open('KRAB-ZFPs.fa') as file:                 # Open fasta file with protein sequences\n",
    "    \n",
    "    zfp_seq = ''                                   # Empty string for protein sequence\n",
    "    zfp_names = []                                 # Empty list for protein names\n",
    "    \n",
    "    for line in file:                              # iterate through lines of fasta file\n",
    "        \n",
    "        if line[0] != '>':                         # Add protein sequence to string if line belongs to sequence  \n",
    "            zfp_seq += line\n",
    "            \n",
    "        else:                                      # Store protein name in list if line starts with '>'\n",
    "            zfp_names.append(line)\n",
    "\n",
    "Zfp_seq_flat = zfp_seq.replace('\\n', '')           # remove newlines from sequence\n",
    "zfp_seq_list = Zfp_seq_flat.split('*')             # split sequence to individual protein sequences\n",
    "\n",
    "for i in range(len(zfp_seq_list[:-1])):            # Iterate through protein sequences and apply find_aa function for each seq\n",
    "    print(zfp_names[i], find_aa(zfp_seq_list[i]))"
   ]
  },
  {
   "cell_type": "markdown",
   "metadata": {},
   "source": [
    "# 4. Discussion and outlook\n",
    "\n",
    "Python is a powerful programming language to perform computational analysis of data generated by next generation sequencing technologies. The short scripts described above can significantly shorten the time it takes to process data files generated by programs previously developed for ChIP-seq and RNA-seq. Importantly, the scripts can be re-used when more next generation sequencing data is constantly produced over the course of a project. In my case, I started with only a handful of ChIP-seq data but these datasets kept growing for more than two years. The developed scripts will help me to analyse new data in very little time in a reproducible manner. I also have previously spent a lot of time to generate RNA-seq scatter plots using excel which is not only time consuming and often leads to a crash of excel because of the large amounts of data, but is also not very useful when trying to generate figures from several datasets. The very short and simple python script to create scatter plots from DESeq2 output files is therefore a very helpful tool for me. \n",
    "Finally, the script that extracts contact amino  acids from C2H2 zinc finger proteins, although already proven to be useful for my specific purposes, could be extended in several ways. One interesting possibility would be to use an improved version to screen entire genomes for the presence of these C2H2 proteins and provide various information about the matches. Such a script could load batched of sequenced genomes (ideally without the need to save the data locally), translate the DNA sequence to protein in all 6 possible open reading frames, and screen the protein sequences for C2H2 fingers. Furthermore, such a script could easily be modified to look for all kind of protein or DNA motifs in a large number of genomes."
   ]
  }
 ],
 "metadata": {
  "kernelspec": {
   "display_name": "Python 3",
   "language": "python",
   "name": "python3"
  },
  "language_info": {
   "codemirror_mode": {
    "name": "ipython",
    "version": 3
   },
   "file_extension": ".py",
   "mimetype": "text/x-python",
   "name": "python",
   "nbconvert_exporter": "python",
   "pygments_lexer": "ipython3",
   "version": "3.6.1"
  }
 },
 "nbformat": 4,
 "nbformat_minor": 2
}
